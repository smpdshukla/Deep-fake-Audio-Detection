{
 "cells": [
  {
   "cell_type": "code",
   "execution_count": 1,
   "metadata": {},
   "outputs": [],
   "source": [
    "import os\n",
    "import numpy as np\n",
    "import librosa\n",
    "import matplotlib.pyplot as plt\n",
    "import tensorflow as tf\n",
    "from keras.models import Sequential\n",
    "from keras.layers import LSTM, GRU, Bidirectional, Dropout, Dense, Conv1D, MaxPooling1D, Flatten\n",
    "from sklearn.preprocessing import StandardScaler\n",
    "from sklearn.metrics import classification_report, accuracy_score\n",
    "import pickle\n",
    "import xgboost as xgb\n",
    "from sklearn.model_selection import GridSearchCV, train_test_split, cross_val_score\n",
    "\n",
    "\n"
   ]
  },
  {
   "cell_type": "code",
   "execution_count": 2,
   "metadata": {},
   "outputs": [],
   "source": [
    "# Feature extraction using MFCC with delta and delta-delta features\n",
    "def extract_features(file_path, sr=16000, n_mfcc=40):\n",
    "    audio_data, _ = librosa.load(file_path, sr=sr)\n",
    "    mfcc = librosa.feature.mfcc(y=audio_data, sr=sr, n_mfcc=n_mfcc)\n",
    "    delta_mfcc = librosa.feature.delta(mfcc)\n",
    "    delta2_mfcc = librosa.feature.delta(mfcc, order=2)\n",
    "    features = np.vstack((mfcc, delta_mfcc, delta2_mfcc))\n",
    "    return np.mean(features.T, axis=0)  # Mean pooling"
   ]
  },
  {
   "cell_type": "code",
   "execution_count": 3,
   "metadata": {},
   "outputs": [],
   "source": [
    "# Extract features for training and testing data\n",
    "def load_data(file_paths):\n",
    "    features = [extract_features(file) for file in file_paths]\n",
    "    return np.array(features)"
   ]
  },
  {
   "cell_type": "code",
   "execution_count": 4,
   "metadata": {},
   "outputs": [],
   "source": [
    "# Directories for audio files\n",
    "train_real_directory = \"E:/deepfake-audio-detection/temp/for-2seconds/training/real\"\n",
    "train_fake_directory = \"E:/deepfake-audio-detection/temp/for-2seconds/training/fake\"\n",
    "validation_real_directory = \"E:/deepfake-audio-detection/temp/for-2seconds/validation/real\"\n",
    "validation_fake_directory = \"E:/deepfake-audio-detection/temp/for-2seconds/validation/fake\"\n",
    "test_real_directory = \"E:/deepfake-audio-detection/temp/for-2seconds/testing/real\"\n",
    "test_fake_directory = \"E:/deepfake-audio-detection/temp/for-2seconds/testing/fake\"\n"
   ]
  },
  {
   "cell_type": "code",
   "execution_count": 5,
   "metadata": {},
   "outputs": [],
   "source": [
    "# Get waveform (.wav) audio files\n",
    "train_real_audio = [os.path.join(train_real_directory, file) for file in os.listdir(train_real_directory) if file.endswith('.wav')]\n",
    "train_fake_audio = [os.path.join(train_fake_directory, file) for file in os.listdir(train_fake_directory) if file.endswith('.wav')]\n",
    "\n",
    "validation_real_audio = [os.path.join(validation_real_directory, file) for file in os.listdir(validation_real_directory) if file.endswith('.wav')]\n",
    "validation_fake_audio = [os.path.join(validation_fake_directory, file) for file in os.listdir(validation_fake_directory) if file.endswith('.wav')]\n",
    "\n",
    "test_real_audio = [os.path.join(test_real_directory, file) for file in os.listdir(test_real_directory) if file.endswith('.wav')]\n",
    "test_fake_audio = [os.path.join(test_fake_directory, file) for file in os.listdir(test_fake_directory) if file.endswith('.wav')]"
   ]
  },
  {
   "cell_type": "code",
   "execution_count": 8,
   "metadata": {},
   "outputs": [],
   "source": [
    "\n",
    "# Prepare training data\n",
    "train_files = train_real_audio + train_fake_audio\n",
    "train_labels = [0] * len(train_real_audio) + [1] * len(train_fake_audio)\n",
    "\n",
    "train_features = load_data(train_files)"
   ]
  },
  {
   "cell_type": "code",
   "execution_count": null,
   "metadata": {},
   "outputs": [],
   "source": [
    "# Scale the features\n",
    "scaler = StandardScaler()\n",
    "train_features = scaler.fit_transform(train_features)\n",
    "\n"
   ]
  },
  {
   "cell_type": "code",
   "execution_count": null,
   "metadata": {},
   "outputs": [],
   "source": [
    "# Prepare test data\n",
    "test_files = [r'{}'.format(file) for file in test_real_audio + test_fake_audio]\n",
    "test_labels = [0] * len(test_real_audio) + [1] * len(test_fake_audio)\n",
    "\n",
    "test_features = load_data(test_files)\n",
    "test_features = scaler.transform(test_features)\n",
    "\n",
    "# Reshape features for RNN\n",
    "train_features_rnn = train_features.reshape(train_features.shape[0], train_features.shape[1], 1)\n",
    "test_features_rnn = test_features.reshape(test_features.shape[0], test_features.shape[1], 1)\n"
   ]
  },
  {
   "cell_type": "code",
   "execution_count": null,
   "metadata": {},
   "outputs": [],
   "source": [
    "from keras.layers import BatchNormalization\n",
    "\n",
    "# Model architecture (RNN) with Batch Normalization and more LSTM units\n",
    "model_rnn = Sequential([\n",
    "    LSTM(128, return_sequences=True, input_shape=(train_features_rnn.shape[1], 1)),\n",
    "    BatchNormalization(),\n",
    "    Dropout(0.5),\n",
    "    LSTM(128),\n",
    "    BatchNormalization(),\n",
    "    Dropout(0.5),\n",
    "    Dense(128, activation='relu'),\n",
    "    Dropout(0.5),\n",
    "    Dense(1, activation='sigmoid')\n",
    "])\n",
    "\n",
    "model_rnn.compile(optimizer=tf.keras.optimizers.Adam(learning_rate=0.0001),\n",
    "                  loss='binary_crossentropy',\n",
    "                  metrics=['accuracy'])\n"
   ]
  },
  {
   "cell_type": "code",
   "execution_count": null,
   "metadata": {},
   "outputs": [
    {
     "name": "stdout",
     "output_type": "stream",
     "text": [
      "Epoch 1/20\n",
      "349/349 [==============================] - 229s 593ms/step - loss: 0.8763 - accuracy: 0.5843 - val_loss: 0.9266 - val_accuracy: 0.0476\n",
      "Epoch 2/20\n",
      "349/349 [==============================] - 187s 533ms/step - loss: 0.8161 - accuracy: 0.5883 - val_loss: 0.8587 - val_accuracy: 0.3736\n",
      "Epoch 3/20\n",
      "349/349 [==============================] - 176s 504ms/step - loss: 0.7800 - accuracy: 0.5950 - val_loss: 0.7605 - val_accuracy: 0.4656\n",
      "Epoch 4/20\n",
      "349/349 [==============================] - 175s 502ms/step - loss: 0.7500 - accuracy: 0.6066 - val_loss: 0.8383 - val_accuracy: 0.4427\n",
      "Epoch 5/20\n",
      "349/349 [==============================] - 183s 526ms/step - loss: 0.7168 - accuracy: 0.6207 - val_loss: 0.7541 - val_accuracy: 0.4918\n",
      "Epoch 6/20\n",
      "349/349 [==============================] - 180s 514ms/step - loss: 0.6934 - accuracy: 0.6279 - val_loss: 0.5842 - val_accuracy: 0.7228\n",
      "Epoch 7/20\n",
      "349/349 [==============================] - 179s 515ms/step - loss: 0.6646 - accuracy: 0.6426 - val_loss: 0.7877 - val_accuracy: 0.5702\n",
      "Epoch 8/20\n",
      "349/349 [==============================] - 183s 524ms/step - loss: 0.6548 - accuracy: 0.6453 - val_loss: 0.4327 - val_accuracy: 0.8395\n",
      "Epoch 9/20\n",
      "349/349 [==============================] - 217s 623ms/step - loss: 0.6386 - accuracy: 0.6623 - val_loss: 0.9777 - val_accuracy: 0.4556\n",
      "Epoch 10/20\n",
      "349/349 [==============================] - 217s 622ms/step - loss: 0.6232 - accuracy: 0.6677 - val_loss: 0.5700 - val_accuracy: 0.7131\n",
      "Epoch 11/20\n",
      "349/349 [==============================] - 262s 753ms/step - loss: 0.6180 - accuracy: 0.6731 - val_loss: 2.0265 - val_accuracy: 0.0623\n",
      "Epoch 12/20\n",
      "349/349 [==============================] - 148s 420ms/step - loss: 0.5981 - accuracy: 0.6883 - val_loss: 1.5357 - val_accuracy: 0.2493\n",
      "Epoch 13/20\n",
      "349/349 [==============================] - 123s 353ms/step - loss: 0.5776 - accuracy: 0.7015 - val_loss: 2.1532 - val_accuracy: 0.1701\n",
      "Epoch 14/20\n",
      "349/349 [==============================] - 122s 348ms/step - loss: 0.5466 - accuracy: 0.7204 - val_loss: 0.2239 - val_accuracy: 0.9713\n",
      "Epoch 15/20\n",
      "349/349 [==============================] - 137s 393ms/step - loss: 0.5252 - accuracy: 0.7294 - val_loss: 0.4601 - val_accuracy: 0.8069\n",
      "Epoch 16/20\n",
      "349/349 [==============================] - 139s 400ms/step - loss: 0.5080 - accuracy: 0.7419 - val_loss: 0.9827 - val_accuracy: 0.5974\n",
      "Epoch 17/20\n",
      "349/349 [==============================] - 156s 448ms/step - loss: 0.5057 - accuracy: 0.7472 - val_loss: 0.4326 - val_accuracy: 0.7923\n",
      "Epoch 18/20\n",
      "349/349 [==============================] - 173s 497ms/step - loss: 0.4783 - accuracy: 0.7599 - val_loss: 0.5063 - val_accuracy: 0.7393\n",
      "Epoch 19/20\n",
      "349/349 [==============================] - 150s 427ms/step - loss: 0.4644 - accuracy: 0.7727 - val_loss: 0.7049 - val_accuracy: 0.6909\n",
      "Epoch 20/20\n",
      "349/349 [==============================] - 136s 391ms/step - loss: 0.4551 - accuracy: 0.7796 - val_loss: 0.4428 - val_accuracy: 0.7607\n"
     ]
    }
   ],
   "source": [
    "# Train the RNN model\n",
    "history_rnn = model_rnn.fit(train_features_rnn, np.array(train_labels), epochs=20, batch_size=32, validation_split=0.2)\n",
    "\n",
    "# Save the RNN model weights\n",
    "model_rnn.save_weights('rnn.h5')\n"
   ]
  },
  {
   "cell_type": "code",
   "execution_count": null,
   "metadata": {},
   "outputs": [],
   "source": [
    "\n",
    "from keras.layers import Conv1D, MaxPooling1D, Flatten\n",
    "\n",
    "# Reshape features for CNN\n",
    "train_features_cnn = train_features.reshape(train_features.shape[0], train_features.shape[1], 1)\n",
    "\n",
    "# Model architecture (CNN)\n",
    "model_cnn = Sequential([\n",
    "    Conv1D(128, kernel_size=3, activation='relu', input_shape=(train_features_cnn.shape[1], 1)),\n",
    "    MaxPooling1D(pool_size=2),\n",
    "    Dropout(0.5),\n",
    "    Conv1D(128, kernel_size=3, activation='relu'),\n",
    "    MaxPooling1D(pool_size=2),\n",
    "    Dropout(0.5),\n",
    "    Flatten(),\n",
    "    Dense(128, activation='relu'),\n",
    "    Dropout(0.5),\n",
    "    Dense(1, activation='sigmoid')\n",
    "])\n",
    "\n",
    "model_cnn.compile(optimizer=tf.keras.optimizers.Adam(),\n",
    "                  loss='binary_crossentropy',\n",
    "                  metrics=['accuracy'])\n",
    "\n"
   ]
  },
  {
   "cell_type": "code",
   "execution_count": null,
   "metadata": {},
   "outputs": [
    {
     "name": "stdout",
     "output_type": "stream",
     "text": [
      "Epoch 1/20\n",
      "349/349 [==============================] - 62s 54ms/step - loss: 0.4010 - accuracy: 0.8133 - val_loss: 0.1721 - val_accuracy: 0.9420\n",
      "Epoch 2/20\n",
      "349/349 [==============================] - 18s 52ms/step - loss: 0.2311 - accuracy: 0.9069 - val_loss: 0.0915 - val_accuracy: 0.9756\n",
      "Epoch 3/20\n",
      "349/349 [==============================] - 19s 55ms/step - loss: 0.1787 - accuracy: 0.9292 - val_loss: 0.0907 - val_accuracy: 0.9660\n",
      "Epoch 4/20\n",
      "349/349 [==============================] - 20s 58ms/step - loss: 0.1437 - accuracy: 0.9445 - val_loss: 0.1019 - val_accuracy: 0.9670\n",
      "Epoch 5/20\n",
      "349/349 [==============================] - 20s 58ms/step - loss: 0.1298 - accuracy: 0.9506 - val_loss: 0.0707 - val_accuracy: 0.9760\n",
      "Epoch 6/20\n",
      "349/349 [==============================] - 21s 61ms/step - loss: 0.1121 - accuracy: 0.9563 - val_loss: 0.0843 - val_accuracy: 0.9710\n",
      "Epoch 7/20\n",
      "349/349 [==============================] - 20s 58ms/step - loss: 0.0959 - accuracy: 0.9643 - val_loss: 0.0501 - val_accuracy: 0.9832\n",
      "Epoch 8/20\n",
      "349/349 [==============================] - 20s 57ms/step - loss: 0.0877 - accuracy: 0.9673 - val_loss: 0.0563 - val_accuracy: 0.9817\n",
      "Epoch 9/20\n",
      "349/349 [==============================] - 20s 58ms/step - loss: 0.0821 - accuracy: 0.9694 - val_loss: 0.0239 - val_accuracy: 0.9936\n",
      "Epoch 10/20\n",
      "349/349 [==============================] - 21s 59ms/step - loss: 0.0753 - accuracy: 0.9706 - val_loss: 0.0643 - val_accuracy: 0.9771\n",
      "Epoch 11/20\n",
      "349/349 [==============================] - 20s 59ms/step - loss: 0.0718 - accuracy: 0.9741 - val_loss: 0.0622 - val_accuracy: 0.9771\n",
      "Epoch 12/20\n",
      "349/349 [==============================] - 20s 57ms/step - loss: 0.0610 - accuracy: 0.9795 - val_loss: 0.0350 - val_accuracy: 0.9878\n",
      "Epoch 13/20\n",
      "349/349 [==============================] - 19s 56ms/step - loss: 0.0610 - accuracy: 0.9776 - val_loss: 0.0295 - val_accuracy: 0.9889\n",
      "Epoch 14/20\n",
      "349/349 [==============================] - 19s 55ms/step - loss: 0.0645 - accuracy: 0.9785 - val_loss: 0.0314 - val_accuracy: 0.9907\n",
      "Epoch 15/20\n",
      "349/349 [==============================] - 19s 56ms/step - loss: 0.0573 - accuracy: 0.9787 - val_loss: 0.0437 - val_accuracy: 0.9839\n",
      "Epoch 16/20\n",
      "349/349 [==============================] - 21s 61ms/step - loss: 0.0520 - accuracy: 0.9821 - val_loss: 0.0225 - val_accuracy: 0.9925\n",
      "Epoch 17/20\n",
      "349/349 [==============================] - 20s 57ms/step - loss: 0.0495 - accuracy: 0.9820 - val_loss: 0.0600 - val_accuracy: 0.9807\n",
      "Epoch 18/20\n",
      "349/349 [==============================] - 20s 58ms/step - loss: 0.0532 - accuracy: 0.9816 - val_loss: 0.0367 - val_accuracy: 0.9875\n",
      "Epoch 19/20\n",
      "349/349 [==============================] - 20s 57ms/step - loss: 0.0488 - accuracy: 0.9820 - val_loss: 0.0442 - val_accuracy: 0.9857\n",
      "Epoch 20/20\n",
      "349/349 [==============================] - 20s 57ms/step - loss: 0.0495 - accuracy: 0.9825 - val_loss: 0.0170 - val_accuracy: 0.9953\n"
     ]
    }
   ],
   "source": [
    "# Train the CNN model\n",
    "history_cnn = model_cnn.fit(train_features_cnn, np.array(train_labels), epochs=20, batch_size=32, validation_split=0.2)\n",
    "\n",
    "# Save the CNN model weights\n",
    "model_cnn.save_weights('cnn.h5')\n"
   ]
  },
  {
   "cell_type": "code",
   "execution_count": null,
   "metadata": {},
   "outputs": [],
   "source": [
    "\n",
    "# Model architecture (BiLSTM)\n",
    "model_bilstm = Sequential([\n",
    "    Bidirectional(LSTM(128, return_sequences=True), input_shape=(train_features_rnn.shape[1], 1)),\n",
    "    Dropout(0.3),\n",
    "    Bidirectional(LSTM(128)),\n",
    "    Dropout(0.3),\n",
    "    Dense(1, activation='sigmoid')\n",
    "])\n",
    "\n",
    "model_bilstm.compile(optimizer=tf.keras.optimizers.Adam(),\n",
    "                     loss='binary_crossentropy',\n",
    "                     metrics=['accuracy'])\n"
   ]
  },
  {
   "cell_type": "code",
   "execution_count": null,
   "metadata": {},
   "outputs": [
    {
     "name": "stdout",
     "output_type": "stream",
     "text": [
      "Epoch 1/20\n",
      "349/349 [==============================] - 405s 1s/step - loss: 0.4602 - accuracy: 0.7577 - val_loss: 0.4332 - val_accuracy: 0.9158\n",
      "Epoch 2/20\n",
      "349/349 [==============================] - 340s 973ms/step - loss: 0.3077 - accuracy: 0.8649 - val_loss: 0.3147 - val_accuracy: 0.8850\n",
      "Epoch 3/20\n",
      "349/349 [==============================] - 349s 1s/step - loss: 0.2156 - accuracy: 0.9127 - val_loss: 0.1815 - val_accuracy: 0.9448\n",
      "Epoch 4/20\n",
      "349/349 [==============================] - 347s 994ms/step - loss: 0.1688 - accuracy: 0.9369 - val_loss: 0.1427 - val_accuracy: 0.9513\n",
      "Epoch 5/20\n",
      "349/349 [==============================] - 348s 999ms/step - loss: 0.1333 - accuracy: 0.9506 - val_loss: 0.0783 - val_accuracy: 0.9796\n",
      "Epoch 6/20\n",
      "349/349 [==============================] - 338s 969ms/step - loss: 0.1078 - accuracy: 0.9603 - val_loss: 0.1992 - val_accuracy: 0.9273\n",
      "Epoch 7/20\n",
      "349/349 [==============================] - 341s 976ms/step - loss: 0.0956 - accuracy: 0.9642 - val_loss: 0.0738 - val_accuracy: 0.9742\n",
      "Epoch 8/20\n",
      "349/349 [==============================] - 354s 1s/step - loss: 0.0753 - accuracy: 0.9734 - val_loss: 0.0825 - val_accuracy: 0.9706\n",
      "Epoch 9/20\n",
      "349/349 [==============================] - 367s 1s/step - loss: 0.0658 - accuracy: 0.9766 - val_loss: 0.1051 - val_accuracy: 0.9613\n",
      "Epoch 10/20\n",
      "349/349 [==============================] - 334s 956ms/step - loss: 0.0531 - accuracy: 0.9807 - val_loss: 0.0644 - val_accuracy: 0.9782\n",
      "Epoch 11/20\n",
      "349/349 [==============================] - 346s 992ms/step - loss: 0.0534 - accuracy: 0.9810 - val_loss: 0.0417 - val_accuracy: 0.9889\n",
      "Epoch 12/20\n",
      "349/349 [==============================] - 327s 938ms/step - loss: 0.0373 - accuracy: 0.9854 - val_loss: 0.0565 - val_accuracy: 0.9789\n",
      "Epoch 13/20\n",
      "349/349 [==============================] - 388s 1s/step - loss: 0.0435 - accuracy: 0.9845 - val_loss: 0.0430 - val_accuracy: 0.9875\n",
      "Epoch 14/20\n",
      "349/349 [==============================] - 450s 1s/step - loss: 0.0379 - accuracy: 0.9867 - val_loss: 0.0835 - val_accuracy: 0.9735\n",
      "Epoch 15/20\n",
      "349/349 [==============================] - 394s 1s/step - loss: 0.0275 - accuracy: 0.9911 - val_loss: 0.0295 - val_accuracy: 0.9910\n",
      "Epoch 16/20\n",
      "349/349 [==============================] - 452s 1s/step - loss: 0.0340 - accuracy: 0.9880 - val_loss: 0.0933 - val_accuracy: 0.9710\n",
      "Epoch 17/20\n",
      "349/349 [==============================] - 510s 1s/step - loss: 0.0338 - accuracy: 0.9883 - val_loss: 0.1271 - val_accuracy: 0.9649\n",
      "Epoch 18/20\n",
      "349/349 [==============================] - 453s 1s/step - loss: 0.0284 - accuracy: 0.9904 - val_loss: 0.1417 - val_accuracy: 0.9538\n",
      "Epoch 19/20\n",
      "349/349 [==============================] - 489s 1s/step - loss: 0.0283 - accuracy: 0.9901 - val_loss: 0.0459 - val_accuracy: 0.9853\n",
      "Epoch 20/20\n",
      "349/349 [==============================] - 572s 2s/step - loss: 0.0205 - accuracy: 0.9930 - val_loss: 0.0525 - val_accuracy: 0.9828\n"
     ]
    }
   ],
   "source": [
    "# Ensure model_bilstm is defined\n",
    "if 'model_bilstm' not in globals():\n",
    "\tmodel_bilstm = Sequential([\n",
    "\t\tBidirectional(LSTM(128, return_sequences=True), input_shape=(train_features_rnn.shape[1], 1)),\n",
    "\t\tDropout(0.3),\n",
    "\t\tBidirectional(LSTM(128)),\n",
    "\t\tDropout(0.3),\n",
    "\t\tDense(1, activation='sigmoid')\n",
    "\t])\n",
    "\n",
    "\n",
    "\tmodel_bilstm.compile(optimizer=tf.keras.optimizers.Adam(),\n",
    "\t\t\t\t\t\t loss='binary_crossentropy',\n",
    "\t\t\t\t\t\t metrics=['accuracy'])\n",
    "\n",
    "# Train the BiLSTM model\n",
    "history_bilstm = model_bilstm.fit(train_features_rnn, np.array(train_labels), epochs=20, batch_size=32, validation_split=0.2)\n",
    "\n",
    "# Save the BiLSTM model weights\n",
    "model_bilstm.save_weights('bilstm.h5')"
   ]
  },
  {
   "cell_type": "code",
   "execution_count": null,
   "metadata": {},
   "outputs": [],
   "source": [
    "# Model architecture (GRU)\n",
    "model_gru = Sequential([\n",
    "    GRU(128, return_sequences=True, input_shape=(train_features_rnn.shape[1], 1)),\n",
    "    Dropout(0.3),\n",
    "    GRU(128),\n",
    "    Dropout(0.3),\n",
    "    Dense(1, activation='sigmoid')\n",
    "])\n",
    "\n",
    "model_gru.compile(optimizer=tf.keras.optimizers.Adam(),\n",
    "                  loss='binary_crossentropy',\n",
    "                  metrics=['accuracy'])\n"
   ]
  },
  {
   "cell_type": "code",
   "execution_count": null,
   "metadata": {},
   "outputs": [
    {
     "name": "stdout",
     "output_type": "stream",
     "text": [
      "Epoch 1/20\n",
      "349/349 [==============================] - 181s 351ms/step - loss: 0.6370 - accuracy: 0.6475 - val_loss: 0.6996 - val_accuracy: 0.5476\n",
      "Epoch 2/20\n",
      "349/349 [==============================] - 135s 388ms/step - loss: 0.5837 - accuracy: 0.6958 - val_loss: 0.8462 - val_accuracy: 0.4993\n",
      "Epoch 3/20\n",
      "349/349 [==============================] - 137s 392ms/step - loss: 0.6141 - accuracy: 0.6626 - val_loss: 0.7803 - val_accuracy: 0.3449\n",
      "Epoch 4/20\n",
      "349/349 [==============================] - 139s 397ms/step - loss: 0.6172 - accuracy: 0.6498 - val_loss: 1.1515 - val_accuracy: 0.2052\n",
      "Epoch 5/20\n",
      "349/349 [==============================] - 135s 387ms/step - loss: 0.5757 - accuracy: 0.6803 - val_loss: 0.8691 - val_accuracy: 0.4287\n",
      "Epoch 6/20\n",
      "349/349 [==============================] - 144s 412ms/step - loss: 0.5370 - accuracy: 0.7131 - val_loss: 0.6630 - val_accuracy: 0.6966\n",
      "Epoch 7/20\n",
      "349/349 [==============================] - 131s 375ms/step - loss: 0.4975 - accuracy: 0.7392 - val_loss: 0.5251 - val_accuracy: 0.8001\n",
      "Epoch 8/20\n",
      "349/349 [==============================] - 131s 374ms/step - loss: 0.4409 - accuracy: 0.7848 - val_loss: 0.4843 - val_accuracy: 0.7948\n",
      "Epoch 9/20\n",
      "349/349 [==============================] - 133s 380ms/step - loss: 0.3931 - accuracy: 0.8181 - val_loss: 0.4001 - val_accuracy: 0.8424\n",
      "Epoch 10/20\n",
      "349/349 [==============================] - 130s 372ms/step - loss: 0.3276 - accuracy: 0.8589 - val_loss: 0.2227 - val_accuracy: 0.9316\n",
      "Epoch 11/20\n",
      "349/349 [==============================] - 122s 348ms/step - loss: 0.2413 - accuracy: 0.9042 - val_loss: 0.2620 - val_accuracy: 0.8965\n",
      "Epoch 12/20\n",
      "349/349 [==============================] - 127s 365ms/step - loss: 0.1707 - accuracy: 0.9334 - val_loss: 0.4306 - val_accuracy: 0.8223\n",
      "Epoch 13/20\n",
      "349/349 [==============================] - 124s 354ms/step - loss: 0.1297 - accuracy: 0.9534 - val_loss: 0.1345 - val_accuracy: 0.9524\n",
      "Epoch 14/20\n",
      "349/349 [==============================] - 125s 357ms/step - loss: 0.0976 - accuracy: 0.9645 - val_loss: 0.0982 - val_accuracy: 0.9656\n",
      "Epoch 15/20\n",
      "349/349 [==============================] - 121s 347ms/step - loss: 0.0860 - accuracy: 0.9690 - val_loss: 0.1014 - val_accuracy: 0.9638\n",
      "Epoch 16/20\n",
      "349/349 [==============================] - 123s 352ms/step - loss: 0.0693 - accuracy: 0.9761 - val_loss: 0.0802 - val_accuracy: 0.9728\n",
      "Epoch 17/20\n",
      "349/349 [==============================] - 122s 349ms/step - loss: 0.0593 - accuracy: 0.9792 - val_loss: 0.0760 - val_accuracy: 0.9728\n",
      "Epoch 18/20\n",
      "349/349 [==============================] - 127s 363ms/step - loss: 0.0499 - accuracy: 0.9824 - val_loss: 0.0674 - val_accuracy: 0.9742\n",
      "Epoch 19/20\n",
      "349/349 [==============================] - 140s 402ms/step - loss: 0.0477 - accuracy: 0.9818 - val_loss: 0.1090 - val_accuracy: 0.9628\n",
      "Epoch 20/20\n",
      "349/349 [==============================] - 149s 426ms/step - loss: 0.0408 - accuracy: 0.9850 - val_loss: 0.0466 - val_accuracy: 0.9821\n"
     ]
    }
   ],
   "source": [
    "\n",
    "\n",
    "# Train the GRU model\n",
    "history_gru = model_gru.fit(train_features_rnn, np.array(train_labels), epochs=20, batch_size=32, validation_split=0.2)\n",
    "\n",
    "# Save the GRU model weights\n",
    "model_gru.save_weights('gru.h5')\n"
   ]
  },
  {
   "cell_type": "code",
   "execution_count": null,
   "metadata": {},
   "outputs": [],
   "source": [
    "\n",
    "# Save the scaler\n",
    "with open('scaler.pkl', 'wb') as f:\n",
    "    pickle.dump(scaler, f)\n"
   ]
  },
  {
   "cell_type": "code",
   "execution_count": null,
   "metadata": {},
   "outputs": [],
   "source": [
    "# Prepare test data\n",
    "test_files = [r'{}'.format(file) for file in test_real_audio + test_fake_audio]\n",
    "test_labels = [0] * len(test_real_audio) + [1] * len(test_fake_audio)\n",
    "\n",
    "test_features = load_data(test_files)\n",
    "test_features = scaler.transform(test_features)\n",
    "test_features_rnn = test_features.reshape(test_features.shape[0], test_features.shape[1], 1)\n",
    "test_features_cnn = test_features.reshape(test_features.shape[0], test_features.shape[1], 1)\n"
   ]
  },
  {
   "cell_type": "code",
   "execution_count": null,
   "metadata": {},
   "outputs": [
    {
     "name": "stdout",
     "output_type": "stream",
     "text": [
      "34/34 [==============================] - 30s 124ms/step\n",
      "\n",
      "RNN Classification Report:\n",
      "              precision    recall  f1-score   support\n",
      "\n",
      "           0       0.68      0.39      0.49       544\n",
      "           1       0.57      0.81      0.67       544\n",
      "\n",
      "    accuracy                           0.60      1088\n",
      "   macro avg       0.62      0.60      0.58      1088\n",
      "weighted avg       0.62      0.60      0.58      1088\n",
      "\n"
     ]
    }
   ],
   "source": [
    "# Evaluate the RNN model\n",
    "predictions_rnn = (model_rnn.predict(test_features_rnn) > 0.5).astype(int)\n",
    "\n",
    "print(\"\\nRNN Classification Report:\")\n",
    "print(classification_report(test_labels, predictions_rnn))\n"
   ]
  },
  {
   "cell_type": "code",
   "execution_count": null,
   "metadata": {},
   "outputs": [
    {
     "name": "stdout",
     "output_type": "stream",
     "text": [
      "RNN Model Accuracy: 60.11%\n"
     ]
    }
   ],
   "source": [
    "# Ensure predictions_rnn is defined\n",
    "if 'predictions_rnn' not in globals():\n",
    "\tpredictions_rnn = (model_rnn.predict(test_features_rnn) > 0.5).astype(int)\n",
    "\n",
    "# Calculate accuracy for RNN\n",
    "accuracy_rnn = accuracy_score(test_labels, predictions_rnn)\n",
    "print(f\"RNN Model Accuracy: {accuracy_rnn * 100:.2f}%\")\n"
   ]
  },
  {
   "cell_type": "code",
   "execution_count": null,
   "metadata": {},
   "outputs": [
    {
     "name": "stdout",
     "output_type": "stream",
     "text": [
      "34/34 [==============================] - 2s 10ms/step\n",
      "\n",
      "CNN Classification Report:\n",
      "              precision    recall  f1-score   support\n",
      "\n",
      "           0       0.96      0.94      0.95       544\n",
      "           1       0.95      0.96      0.95       544\n",
      "\n",
      "    accuracy                           0.95      1088\n",
      "   macro avg       0.95      0.95      0.95      1088\n",
      "weighted avg       0.95      0.95      0.95      1088\n",
      "\n"
     ]
    }
   ],
   "source": [
    "# Evaluate the CNN model\n",
    "predictions_cnn = (model_cnn.predict(test_features_cnn) > 0.5).astype(int)\n",
    "\n",
    "print(\"\\nCNN Classification Report:\")\n",
    "print(classification_report(test_labels, predictions_cnn))\n"
   ]
  },
  {
   "cell_type": "code",
   "execution_count": null,
   "metadata": {},
   "outputs": [
    {
     "name": "stdout",
     "output_type": "stream",
     "text": [
      "CNN Model Accuracy: 95.13%\n"
     ]
    }
   ],
   "source": [
    "# Calculate accuracy for CNN\n",
    "accuracy_cnn = accuracy_score(test_labels, predictions_cnn)\n",
    "print(f\"CNN Model Accuracy: {accuracy_cnn * 100:.2f}%\")\n"
   ]
  },
  {
   "cell_type": "code",
   "execution_count": null,
   "metadata": {},
   "outputs": [
    {
     "name": "stdout",
     "output_type": "stream",
     "text": [
      "34/34 [==============================] - 12s 186ms/step\n",
      "\n",
      "BiLSTM Classification Report:\n",
      "              precision    recall  f1-score   support\n",
      "\n",
      "           0       0.87      1.00      0.93       544\n",
      "           1       1.00      0.85      0.92       544\n",
      "\n",
      "    accuracy                           0.92      1088\n",
      "   macro avg       0.93      0.92      0.92      1088\n",
      "weighted avg       0.93      0.92      0.92      1088\n",
      "\n"
     ]
    }
   ],
   "source": [
    "# Evaluate the BiLSTM model\n",
    "predictions_bilstm = (model_bilstm.predict(test_features_rnn) > 0.5).astype(int)\n",
    "\n",
    "print(\"\\nBiLSTM Classification Report:\")\n",
    "print(classification_report(test_labels, predictions_bilstm))\n"
   ]
  },
  {
   "cell_type": "code",
   "execution_count": null,
   "metadata": {},
   "outputs": [
    {
     "name": "stdout",
     "output_type": "stream",
     "text": [
      "BiLSTM Model Accuracy: 92.28%\n"
     ]
    }
   ],
   "source": [
    "# Calculate accuracy for BiLSTM\n",
    "accuracy_bilstm = accuracy_score(test_labels, predictions_bilstm)\n",
    "print(f\"BiLSTM Model Accuracy: {accuracy_bilstm * 100:.2f}%\")\n"
   ]
  },
  {
   "cell_type": "code",
   "execution_count": null,
   "metadata": {},
   "outputs": [
    {
     "name": "stdout",
     "output_type": "stream",
     "text": [
      "34/34 [==============================] - 5s 76ms/step\n",
      "\n",
      "GRU Classification Report:\n",
      "              precision    recall  f1-score   support\n",
      "\n",
      "           0       0.74      0.94      0.83       544\n",
      "           1       0.92      0.66      0.77       544\n",
      "\n",
      "    accuracy                           0.80      1088\n",
      "   macro avg       0.83      0.80      0.80      1088\n",
      "weighted avg       0.83      0.80      0.80      1088\n",
      "\n"
     ]
    }
   ],
   "source": [
    "# Evaluate the GRU model\n",
    "predictions_gru = (model_gru.predict(test_features_rnn) > 0.5).astype(int)\n",
    "\n",
    "print(\"\\nGRU Classification Report:\")\n",
    "print(classification_report(test_labels, predictions_gru))\n"
   ]
  },
  {
   "cell_type": "code",
   "execution_count": null,
   "metadata": {},
   "outputs": [
    {
     "name": "stdout",
     "output_type": "stream",
     "text": [
      "GRU Model Accuracy: 80.33%\n"
     ]
    }
   ],
   "source": [
    "# Calculate accuracy for GRU\n",
    "accuracy_gru = accuracy_score(test_labels, predictions_gru)\n",
    "print(f\"GRU Model Accuracy: {accuracy_gru * 100:.2f}%\")\n"
   ]
  },
  {
   "cell_type": "code",
   "execution_count": null,
   "metadata": {},
   "outputs": [],
   "source": [
    "# XGBoost model\n",
    "model_xgb = xgb.XGBClassifier()\n"
   ]
  },
  {
   "cell_type": "code",
   "execution_count": null,
   "metadata": {},
   "outputs": [
    {
     "name": "stdout",
     "output_type": "stream",
     "text": [
      "Fitting 3 folds for each of 128 candidates, totalling 384 fits\n"
     ]
    },
    {
     "name": "stderr",
     "output_type": "stream",
     "text": [
      "c:\\Users\\Lenovo\\AppData\\Local\\Programs\\Python\\Python310\\lib\\site-packages\\numpy\\ma\\core.py:2820: RuntimeWarning: invalid value encountered in cast\n",
      "  _data = np.array(data, dtype=dtype, copy=copy,\n"
     ]
    },
    {
     "name": "stdout",
     "output_type": "stream",
     "text": [
      "Best parameters: {'colsample_bytree': 0.7, 'gamma': 0, 'learning_rate': 0.1, 'max_depth': 7, 'min_child_weight': 1, 'n_estimators': 300, 'subsample': 0.8, 'tree_method': 'hist'}\n",
      "Best cross-validation accuracy: 0.9909716251074806\n"
     ]
    }
   ],
   "source": [
    "param_grid = {\n",
    "    'n_estimators': [200, 300],  \n",
    "    'max_depth': [5, 7],  \n",
    "    'learning_rate': [0.05, 0.1],\n",
    "    'subsample': [0.8, 0.9],  \n",
    "    'colsample_bytree': [0.7, 0.8],  \n",
    "    'gamma': [0, 0.1],  \n",
    "    'min_child_weight': [1, 3 ],\n",
    "    'tree_method': ['hist']  \n",
    "}\n",
    "grid_search = GridSearchCV(\n",
    "    estimator=xgb.XGBClassifier(),\n",
    "    param_grid=param_grid,\n",
    "    cv=3,\n",
    "    scoring='accuracy',\n",
    "    n_jobs=-1,\n",
    "    verbose=2\n",
    ")\n",
    "grid_search.fit(train_features, train_labels)\n",
    "print(f\"Best parameters: {grid_search.best_params_}\")\n",
    "print(f\"Best cross-validation accuracy: {grid_search.best_score_}\")\n"
   ]
  },
  {
   "cell_type": "code",
   "execution_count": null,
   "metadata": {},
   "outputs": [
    {
     "data": {
      "text/html": [
       "<style>#sk-container-id-1 {\n",
       "  /* Definition of color scheme common for light and dark mode */\n",
       "  --sklearn-color-text: black;\n",
       "  --sklearn-color-line: gray;\n",
       "  /* Definition of color scheme for unfitted estimators */\n",
       "  --sklearn-color-unfitted-level-0: #fff5e6;\n",
       "  --sklearn-color-unfitted-level-1: #f6e4d2;\n",
       "  --sklearn-color-unfitted-level-2: #ffe0b3;\n",
       "  --sklearn-color-unfitted-level-3: chocolate;\n",
       "  /* Definition of color scheme for fitted estimators */\n",
       "  --sklearn-color-fitted-level-0: #f0f8ff;\n",
       "  --sklearn-color-fitted-level-1: #d4ebff;\n",
       "  --sklearn-color-fitted-level-2: #b3dbfd;\n",
       "  --sklearn-color-fitted-level-3: cornflowerblue;\n",
       "\n",
       "  /* Specific color for light theme */\n",
       "  --sklearn-color-text-on-default-background: var(--sg-text-color, var(--theme-code-foreground, var(--jp-content-font-color1, black)));\n",
       "  --sklearn-color-background: var(--sg-background-color, var(--theme-background, var(--jp-layout-color0, white)));\n",
       "  --sklearn-color-border-box: var(--sg-text-color, var(--theme-code-foreground, var(--jp-content-font-color1, black)));\n",
       "  --sklearn-color-icon: #696969;\n",
       "\n",
       "  @media (prefers-color-scheme: dark) {\n",
       "    /* Redefinition of color scheme for dark theme */\n",
       "    --sklearn-color-text-on-default-background: var(--sg-text-color, var(--theme-code-foreground, var(--jp-content-font-color1, white)));\n",
       "    --sklearn-color-background: var(--sg-background-color, var(--theme-background, var(--jp-layout-color0, #111)));\n",
       "    --sklearn-color-border-box: var(--sg-text-color, var(--theme-code-foreground, var(--jp-content-font-color1, white)));\n",
       "    --sklearn-color-icon: #878787;\n",
       "  }\n",
       "}\n",
       "\n",
       "#sk-container-id-1 {\n",
       "  color: var(--sklearn-color-text);\n",
       "}\n",
       "\n",
       "#sk-container-id-1 pre {\n",
       "  padding: 0;\n",
       "}\n",
       "\n",
       "#sk-container-id-1 input.sk-hidden--visually {\n",
       "  border: 0;\n",
       "  clip: rect(1px 1px 1px 1px);\n",
       "  clip: rect(1px, 1px, 1px, 1px);\n",
       "  height: 1px;\n",
       "  margin: -1px;\n",
       "  overflow: hidden;\n",
       "  padding: 0;\n",
       "  position: absolute;\n",
       "  width: 1px;\n",
       "}\n",
       "\n",
       "#sk-container-id-1 div.sk-dashed-wrapped {\n",
       "  border: 1px dashed var(--sklearn-color-line);\n",
       "  margin: 0 0.4em 0.5em 0.4em;\n",
       "  box-sizing: border-box;\n",
       "  padding-bottom: 0.4em;\n",
       "  background-color: var(--sklearn-color-background);\n",
       "}\n",
       "\n",
       "#sk-container-id-1 div.sk-container {\n",
       "  /* jupyter's `normalize.less` sets `[hidden] { display: none; }`\n",
       "     but bootstrap.min.css set `[hidden] { display: none !important; }`\n",
       "     so we also need the `!important` here to be able to override the\n",
       "     default hidden behavior on the sphinx rendered scikit-learn.org.\n",
       "     See: https://github.com/scikit-learn/scikit-learn/issues/21755 */\n",
       "  display: inline-block !important;\n",
       "  position: relative;\n",
       "}\n",
       "\n",
       "#sk-container-id-1 div.sk-text-repr-fallback {\n",
       "  display: none;\n",
       "}\n",
       "\n",
       "div.sk-parallel-item,\n",
       "div.sk-serial,\n",
       "div.sk-item {\n",
       "  /* draw centered vertical line to link estimators */\n",
       "  background-image: linear-gradient(var(--sklearn-color-text-on-default-background), var(--sklearn-color-text-on-default-background));\n",
       "  background-size: 2px 100%;\n",
       "  background-repeat: no-repeat;\n",
       "  background-position: center center;\n",
       "}\n",
       "\n",
       "/* Parallel-specific style estimator block */\n",
       "\n",
       "#sk-container-id-1 div.sk-parallel-item::after {\n",
       "  content: \"\";\n",
       "  width: 100%;\n",
       "  border-bottom: 2px solid var(--sklearn-color-text-on-default-background);\n",
       "  flex-grow: 1;\n",
       "}\n",
       "\n",
       "#sk-container-id-1 div.sk-parallel {\n",
       "  display: flex;\n",
       "  align-items: stretch;\n",
       "  justify-content: center;\n",
       "  background-color: var(--sklearn-color-background);\n",
       "  position: relative;\n",
       "}\n",
       "\n",
       "#sk-container-id-1 div.sk-parallel-item {\n",
       "  display: flex;\n",
       "  flex-direction: column;\n",
       "}\n",
       "\n",
       "#sk-container-id-1 div.sk-parallel-item:first-child::after {\n",
       "  align-self: flex-end;\n",
       "  width: 50%;\n",
       "}\n",
       "\n",
       "#sk-container-id-1 div.sk-parallel-item:last-child::after {\n",
       "  align-self: flex-start;\n",
       "  width: 50%;\n",
       "}\n",
       "\n",
       "#sk-container-id-1 div.sk-parallel-item:only-child::after {\n",
       "  width: 0;\n",
       "}\n",
       "\n",
       "/* Serial-specific style estimator block */\n",
       "\n",
       "#sk-container-id-1 div.sk-serial {\n",
       "  display: flex;\n",
       "  flex-direction: column;\n",
       "  align-items: center;\n",
       "  background-color: var(--sklearn-color-background);\n",
       "  padding-right: 1em;\n",
       "  padding-left: 1em;\n",
       "}\n",
       "\n",
       "\n",
       "/* Toggleable style: style used for estimator/Pipeline/ColumnTransformer box that is\n",
       "clickable and can be expanded/collapsed.\n",
       "- Pipeline and ColumnTransformer use this feature and define the default style\n",
       "- Estimators will overwrite some part of the style using the `sk-estimator` class\n",
       "*/\n",
       "\n",
       "/* Pipeline and ColumnTransformer style (default) */\n",
       "\n",
       "#sk-container-id-1 div.sk-toggleable {\n",
       "  /* Default theme specific background. It is overwritten whether we have a\n",
       "  specific estimator or a Pipeline/ColumnTransformer */\n",
       "  background-color: var(--sklearn-color-background);\n",
       "}\n",
       "\n",
       "/* Toggleable label */\n",
       "#sk-container-id-1 label.sk-toggleable__label {\n",
       "  cursor: pointer;\n",
       "  display: block;\n",
       "  width: 100%;\n",
       "  margin-bottom: 0;\n",
       "  padding: 0.5em;\n",
       "  box-sizing: border-box;\n",
       "  text-align: center;\n",
       "}\n",
       "\n",
       "#sk-container-id-1 label.sk-toggleable__label-arrow:before {\n",
       "  /* Arrow on the left of the label */\n",
       "  content: \"▸\";\n",
       "  float: left;\n",
       "  margin-right: 0.25em;\n",
       "  color: var(--sklearn-color-icon);\n",
       "}\n",
       "\n",
       "#sk-container-id-1 label.sk-toggleable__label-arrow:hover:before {\n",
       "  color: var(--sklearn-color-text);\n",
       "}\n",
       "\n",
       "/* Toggleable content - dropdown */\n",
       "\n",
       "#sk-container-id-1 div.sk-toggleable__content {\n",
       "  max-height: 0;\n",
       "  max-width: 0;\n",
       "  overflow: hidden;\n",
       "  text-align: left;\n",
       "  /* unfitted */\n",
       "  background-color: var(--sklearn-color-unfitted-level-0);\n",
       "}\n",
       "\n",
       "#sk-container-id-1 div.sk-toggleable__content.fitted {\n",
       "  /* fitted */\n",
       "  background-color: var(--sklearn-color-fitted-level-0);\n",
       "}\n",
       "\n",
       "#sk-container-id-1 div.sk-toggleable__content pre {\n",
       "  margin: 0.2em;\n",
       "  border-radius: 0.25em;\n",
       "  color: var(--sklearn-color-text);\n",
       "  /* unfitted */\n",
       "  background-color: var(--sklearn-color-unfitted-level-0);\n",
       "}\n",
       "\n",
       "#sk-container-id-1 div.sk-toggleable__content.fitted pre {\n",
       "  /* unfitted */\n",
       "  background-color: var(--sklearn-color-fitted-level-0);\n",
       "}\n",
       "\n",
       "#sk-container-id-1 input.sk-toggleable__control:checked~div.sk-toggleable__content {\n",
       "  /* Expand drop-down */\n",
       "  max-height: 200px;\n",
       "  max-width: 100%;\n",
       "  overflow: auto;\n",
       "}\n",
       "\n",
       "#sk-container-id-1 input.sk-toggleable__control:checked~label.sk-toggleable__label-arrow:before {\n",
       "  content: \"▾\";\n",
       "}\n",
       "\n",
       "/* Pipeline/ColumnTransformer-specific style */\n",
       "\n",
       "#sk-container-id-1 div.sk-label input.sk-toggleable__control:checked~label.sk-toggleable__label {\n",
       "  color: var(--sklearn-color-text);\n",
       "  background-color: var(--sklearn-color-unfitted-level-2);\n",
       "}\n",
       "\n",
       "#sk-container-id-1 div.sk-label.fitted input.sk-toggleable__control:checked~label.sk-toggleable__label {\n",
       "  background-color: var(--sklearn-color-fitted-level-2);\n",
       "}\n",
       "\n",
       "/* Estimator-specific style */\n",
       "\n",
       "/* Colorize estimator box */\n",
       "#sk-container-id-1 div.sk-estimator input.sk-toggleable__control:checked~label.sk-toggleable__label {\n",
       "  /* unfitted */\n",
       "  background-color: var(--sklearn-color-unfitted-level-2);\n",
       "}\n",
       "\n",
       "#sk-container-id-1 div.sk-estimator.fitted input.sk-toggleable__control:checked~label.sk-toggleable__label {\n",
       "  /* fitted */\n",
       "  background-color: var(--sklearn-color-fitted-level-2);\n",
       "}\n",
       "\n",
       "#sk-container-id-1 div.sk-label label.sk-toggleable__label,\n",
       "#sk-container-id-1 div.sk-label label {\n",
       "  /* The background is the default theme color */\n",
       "  color: var(--sklearn-color-text-on-default-background);\n",
       "}\n",
       "\n",
       "/* On hover, darken the color of the background */\n",
       "#sk-container-id-1 div.sk-label:hover label.sk-toggleable__label {\n",
       "  color: var(--sklearn-color-text);\n",
       "  background-color: var(--sklearn-color-unfitted-level-2);\n",
       "}\n",
       "\n",
       "/* Label box, darken color on hover, fitted */\n",
       "#sk-container-id-1 div.sk-label.fitted:hover label.sk-toggleable__label.fitted {\n",
       "  color: var(--sklearn-color-text);\n",
       "  background-color: var(--sklearn-color-fitted-level-2);\n",
       "}\n",
       "\n",
       "/* Estimator label */\n",
       "\n",
       "#sk-container-id-1 div.sk-label label {\n",
       "  font-family: monospace;\n",
       "  font-weight: bold;\n",
       "  display: inline-block;\n",
       "  line-height: 1.2em;\n",
       "}\n",
       "\n",
       "#sk-container-id-1 div.sk-label-container {\n",
       "  text-align: center;\n",
       "}\n",
       "\n",
       "/* Estimator-specific */\n",
       "#sk-container-id-1 div.sk-estimator {\n",
       "  font-family: monospace;\n",
       "  border: 1px dotted var(--sklearn-color-border-box);\n",
       "  border-radius: 0.25em;\n",
       "  box-sizing: border-box;\n",
       "  margin-bottom: 0.5em;\n",
       "  /* unfitted */\n",
       "  background-color: var(--sklearn-color-unfitted-level-0);\n",
       "}\n",
       "\n",
       "#sk-container-id-1 div.sk-estimator.fitted {\n",
       "  /* fitted */\n",
       "  background-color: var(--sklearn-color-fitted-level-0);\n",
       "}\n",
       "\n",
       "/* on hover */\n",
       "#sk-container-id-1 div.sk-estimator:hover {\n",
       "  /* unfitted */\n",
       "  background-color: var(--sklearn-color-unfitted-level-2);\n",
       "}\n",
       "\n",
       "#sk-container-id-1 div.sk-estimator.fitted:hover {\n",
       "  /* fitted */\n",
       "  background-color: var(--sklearn-color-fitted-level-2);\n",
       "}\n",
       "\n",
       "/* Specification for estimator info (e.g. \"i\" and \"?\") */\n",
       "\n",
       "/* Common style for \"i\" and \"?\" */\n",
       "\n",
       ".sk-estimator-doc-link,\n",
       "a:link.sk-estimator-doc-link,\n",
       "a:visited.sk-estimator-doc-link {\n",
       "  float: right;\n",
       "  font-size: smaller;\n",
       "  line-height: 1em;\n",
       "  font-family: monospace;\n",
       "  background-color: var(--sklearn-color-background);\n",
       "  border-radius: 1em;\n",
       "  height: 1em;\n",
       "  width: 1em;\n",
       "  text-decoration: none !important;\n",
       "  margin-left: 1ex;\n",
       "  /* unfitted */\n",
       "  border: var(--sklearn-color-unfitted-level-1) 1pt solid;\n",
       "  color: var(--sklearn-color-unfitted-level-1);\n",
       "}\n",
       "\n",
       ".sk-estimator-doc-link.fitted,\n",
       "a:link.sk-estimator-doc-link.fitted,\n",
       "a:visited.sk-estimator-doc-link.fitted {\n",
       "  /* fitted */\n",
       "  border: var(--sklearn-color-fitted-level-1) 1pt solid;\n",
       "  color: var(--sklearn-color-fitted-level-1);\n",
       "}\n",
       "\n",
       "/* On hover */\n",
       "div.sk-estimator:hover .sk-estimator-doc-link:hover,\n",
       ".sk-estimator-doc-link:hover,\n",
       "div.sk-label-container:hover .sk-estimator-doc-link:hover,\n",
       ".sk-estimator-doc-link:hover {\n",
       "  /* unfitted */\n",
       "  background-color: var(--sklearn-color-unfitted-level-3);\n",
       "  color: var(--sklearn-color-background);\n",
       "  text-decoration: none;\n",
       "}\n",
       "\n",
       "div.sk-estimator.fitted:hover .sk-estimator-doc-link.fitted:hover,\n",
       ".sk-estimator-doc-link.fitted:hover,\n",
       "div.sk-label-container:hover .sk-estimator-doc-link.fitted:hover,\n",
       ".sk-estimator-doc-link.fitted:hover {\n",
       "  /* fitted */\n",
       "  background-color: var(--sklearn-color-fitted-level-3);\n",
       "  color: var(--sklearn-color-background);\n",
       "  text-decoration: none;\n",
       "}\n",
       "\n",
       "/* Span, style for the box shown on hovering the info icon */\n",
       ".sk-estimator-doc-link span {\n",
       "  display: none;\n",
       "  z-index: 9999;\n",
       "  position: relative;\n",
       "  font-weight: normal;\n",
       "  right: .2ex;\n",
       "  padding: .5ex;\n",
       "  margin: .5ex;\n",
       "  width: min-content;\n",
       "  min-width: 20ex;\n",
       "  max-width: 50ex;\n",
       "  color: var(--sklearn-color-text);\n",
       "  box-shadow: 2pt 2pt 4pt #999;\n",
       "  /* unfitted */\n",
       "  background: var(--sklearn-color-unfitted-level-0);\n",
       "  border: .5pt solid var(--sklearn-color-unfitted-level-3);\n",
       "}\n",
       "\n",
       ".sk-estimator-doc-link.fitted span {\n",
       "  /* fitted */\n",
       "  background: var(--sklearn-color-fitted-level-0);\n",
       "  border: var(--sklearn-color-fitted-level-3);\n",
       "}\n",
       "\n",
       ".sk-estimator-doc-link:hover span {\n",
       "  display: block;\n",
       "}\n",
       "\n",
       "/* \"?\"-specific style due to the `<a>` HTML tag */\n",
       "\n",
       "#sk-container-id-1 a.estimator_doc_link {\n",
       "  float: right;\n",
       "  font-size: 1rem;\n",
       "  line-height: 1em;\n",
       "  font-family: monospace;\n",
       "  background-color: var(--sklearn-color-background);\n",
       "  border-radius: 1rem;\n",
       "  height: 1rem;\n",
       "  width: 1rem;\n",
       "  text-decoration: none;\n",
       "  /* unfitted */\n",
       "  color: var(--sklearn-color-unfitted-level-1);\n",
       "  border: var(--sklearn-color-unfitted-level-1) 1pt solid;\n",
       "}\n",
       "\n",
       "#sk-container-id-1 a.estimator_doc_link.fitted {\n",
       "  /* fitted */\n",
       "  border: var(--sklearn-color-fitted-level-1) 1pt solid;\n",
       "  color: var(--sklearn-color-fitted-level-1);\n",
       "}\n",
       "\n",
       "/* On hover */\n",
       "#sk-container-id-1 a.estimator_doc_link:hover {\n",
       "  /* unfitted */\n",
       "  background-color: var(--sklearn-color-unfitted-level-3);\n",
       "  color: var(--sklearn-color-background);\n",
       "  text-decoration: none;\n",
       "}\n",
       "\n",
       "#sk-container-id-1 a.estimator_doc_link.fitted:hover {\n",
       "  /* fitted */\n",
       "  background-color: var(--sklearn-color-fitted-level-3);\n",
       "}\n",
       "</style><div id=\"sk-container-id-1\" class=\"sk-top-container\"><div class=\"sk-text-repr-fallback\"><pre>XGBClassifier(base_score=None, booster=None, callbacks=None,\n",
       "              colsample_bylevel=None, colsample_bynode=None,\n",
       "              colsample_bytree=0.7, device=None, early_stopping_rounds=None,\n",
       "              enable_categorical=False, eval_metric=None, feature_types=None,\n",
       "              gamma=0, grow_policy=None, importance_type=None,\n",
       "              interaction_constraints=None, learning_rate=0.1, max_bin=None,\n",
       "              max_cat_threshold=None, max_cat_to_onehot=None,\n",
       "              max_delta_step=None, max_depth=7, max_leaves=None,\n",
       "              min_child_weight=1, missing=nan, monotone_constraints=None,\n",
       "              multi_strategy=None, n_estimators=300, n_jobs=None,\n",
       "              num_parallel_tree=None, random_state=None, ...)</pre><b>In a Jupyter environment, please rerun this cell to show the HTML representation or trust the notebook. <br />On GitHub, the HTML representation is unable to render, please try loading this page with nbviewer.org.</b></div><div class=\"sk-container\" hidden><div class=\"sk-item\"><div class=\"sk-estimator fitted sk-toggleable\"><input class=\"sk-toggleable__control sk-hidden--visually\" id=\"sk-estimator-id-1\" type=\"checkbox\" checked><label for=\"sk-estimator-id-1\" class=\"sk-toggleable__label fitted sk-toggleable__label-arrow fitted\">&nbsp;XGBClassifier<span class=\"sk-estimator-doc-link fitted\">i<span>Fitted</span></span></label><div class=\"sk-toggleable__content fitted\"><pre>XGBClassifier(base_score=None, booster=None, callbacks=None,\n",
       "              colsample_bylevel=None, colsample_bynode=None,\n",
       "              colsample_bytree=0.7, device=None, early_stopping_rounds=None,\n",
       "              enable_categorical=False, eval_metric=None, feature_types=None,\n",
       "              gamma=0, grow_policy=None, importance_type=None,\n",
       "              interaction_constraints=None, learning_rate=0.1, max_bin=None,\n",
       "              max_cat_threshold=None, max_cat_to_onehot=None,\n",
       "              max_delta_step=None, max_depth=7, max_leaves=None,\n",
       "              min_child_weight=1, missing=nan, monotone_constraints=None,\n",
       "              multi_strategy=None, n_estimators=300, n_jobs=None,\n",
       "              num_parallel_tree=None, random_state=None, ...)</pre></div> </div></div></div></div>"
      ],
      "text/plain": [
       "XGBClassifier(base_score=None, booster=None, callbacks=None,\n",
       "              colsample_bylevel=None, colsample_bynode=None,\n",
       "              colsample_bytree=0.7, device=None, early_stopping_rounds=None,\n",
       "              enable_categorical=False, eval_metric=None, feature_types=None,\n",
       "              gamma=0, grow_policy=None, importance_type=None,\n",
       "              interaction_constraints=None, learning_rate=0.1, max_bin=None,\n",
       "              max_cat_threshold=None, max_cat_to_onehot=None,\n",
       "              max_delta_step=None, max_depth=7, max_leaves=None,\n",
       "              min_child_weight=1, missing=nan, monotone_constraints=None,\n",
       "              multi_strategy=None, n_estimators=300, n_jobs=None,\n",
       "              num_parallel_tree=None, random_state=None, ...)"
      ]
     },
     "execution_count": 30,
     "metadata": {},
     "output_type": "execute_result"
    }
   ],
   "source": [
    "# Train the XGBoost model with the best parameters\n",
    "model_xgb = xgb.XGBClassifier(**grid_search.best_params_)\n",
    "model_xgb.fit(train_features, train_labels)\n",
    "\n",
    "\n",
    " "
   ]
  },
  {
   "cell_type": "code",
   "execution_count": null,
   "metadata": {},
   "outputs": [],
   "source": [
    "\n",
    "# Save the XGBoost model\n",
    "model_xgb.save_model('model_xgb.json')"
   ]
  },
  {
   "cell_type": "code",
   "execution_count": null,
   "metadata": {},
   "outputs": [
    {
     "name": "stdout",
     "output_type": "stream",
     "text": [
      "\n",
      "XGBoost Classification Report:\n",
      "              precision    recall  f1-score   support\n",
      "\n",
      "           0       0.61      0.97      0.75       544\n",
      "           1       0.93      0.38      0.54       544\n",
      "\n",
      "    accuracy                           0.68      1088\n",
      "   macro avg       0.77      0.68      0.65      1088\n",
      "weighted avg       0.77      0.68      0.65      1088\n",
      "\n"
     ]
    }
   ],
   "source": [
    "# Evaluate the XGBoost model\n",
    "predictions_xgb = model_xgb.predict(test_features)\n",
    "\n",
    "print(\"\\nXGBoost Classification Report:\")\n",
    "print(classification_report(test_labels, predictions_xgb))\n"
   ]
  },
  {
   "cell_type": "code",
   "execution_count": null,
   "metadata": {},
   "outputs": [
    {
     "name": "stdout",
     "output_type": "stream",
     "text": [
      "XGBoost Model Accuracy: 67.65%\n"
     ]
    }
   ],
   "source": [
    "# Calculate accuracy for XGBoost\n",
    "accuracy_xgb = accuracy_score(test_labels, predictions_xgb)\n",
    "print(f\"XGBoost Model Accuracy: {accuracy_xgb * 100:.2f}%\")\n"
   ]
  },
  {
   "cell_type": "code",
   "execution_count": null,
   "metadata": {},
   "outputs": [],
   "source": [
    "\n",
    "combined_predictions = (predictions_rnn*0.35 + predictions_cnn+ predictions_bilstm + predictions_gru*0.35 + predictions_xgb*0.5)"
   ]
  },
  {
   "cell_type": "code",
   "execution_count": null,
   "metadata": {},
   "outputs": [],
   "source": [
    "# Ensure predictions are in the same format\n",
    "predictions_rnn = predictions_rnn.flatten()\n",
    "predictions_cnn = predictions_cnn.flatten()\n",
    "predictions_bilstm = predictions_bilstm.flatten()\n",
    "predictions_gru = predictions_gru.flatten()\n",
    "predictions_xgb = predictions_xgb.flatten()\n"
   ]
  },
  {
   "cell_type": "code",
   "execution_count": null,
   "metadata": {},
   "outputs": [
    {
     "name": "stdout",
     "output_type": "stream",
     "text": [
      "Overall Accuracy of All Models: 67.65%\n"
     ]
    }
   ],
   "source": [
    "\n",
    "\n",
    "# Ensure test_labels is a binary array\n",
    "test_labels_binary = np.array(test_labels).astype(int)\n",
    "\n",
    "# Combine predictions using majority voting\n",
    "combined_predictions_binary = (combined_predictions > 0.5).astype(int)\n",
    "\n",
    "# Ensure combined_predictions_binary is flattened and matches the length of test_labels_binary\n",
    "combined_predictions_binary = combined_predictions_binary.flatten()[:len(test_labels_binary)]\n",
    "\n",
    "# Calculate overall accuracy\n",
    "overall_accuracy = accuracy_score(test_labels_binary, combined_predictions_binary)\n",
    "print(f\"Overall Accuracy of All Models: {overall_accuracy * 100:.2f}%\")\n",
    "\n",
    "\n",
    "\n"
   ]
  },
  {
   "cell_type": "code",
   "execution_count": null,
   "metadata": {},
   "outputs": [
    {
     "name": "stdout",
     "output_type": "stream",
     "text": [
      "437/437 [==============================] - 71s 105ms/step\n",
      "437/437 [==============================] - 5s 8ms/step\n",
      "437/437 [==============================] - 109s 223ms/step\n",
      "437/437 [==============================] - 43s 88ms/step\n",
      "34/34 [==============================] - 4s 101ms/step\n",
      "34/34 [==============================] - 0s 8ms/step\n",
      "34/34 [==============================] - 7s 207ms/step\n",
      "34/34 [==============================] - 4s 113ms/step\n",
      "\n",
      "Stacking Model Classification Report:\n",
      "              precision    recall  f1-score   support\n",
      "\n",
      "           0       0.90      0.99      0.94       544\n",
      "           1       0.99      0.89      0.94       544\n",
      "\n",
      "    accuracy                           0.94      1088\n",
      "   macro avg       0.94      0.94      0.94      1088\n",
      "weighted avg       0.94      0.94      0.94      1088\n",
      "\n",
      "Stacking Model Accuracy: 94.03%\n"
     ]
    }
   ],
   "source": [
    "from sklearn.linear_model import LogisticRegression\n",
    "from sklearn.metrics import classification_report, accuracy_score\n",
    "import numpy as np\n",
    "\n",
    "# Step 1: Generate weighted predictions from base models\n",
    "def get_weighted_predictions(models, features_rnn, features_cnn, features_scaled, weights):\n",
    "    predictions = []\n",
    "    for model_name, model in models.items():\n",
    "        if model_name in ['rnn', 'bilstm', 'gru']:\n",
    "            pred = model.predict(features_rnn).flatten() * weights[model_name]\n",
    "        elif model_name == 'cnn':\n",
    "            pred = model.predict(features_cnn).flatten() * weights[model_name]\n",
    "        elif model_name == 'xgb':\n",
    "    \n",
    "            \n",
    "            pred = model.predict(features_scaled) * weights[model_name]\n",
    "        predictions.append(pred)\n",
    "    return np.sum(predictions, axis=0)  \n",
    "# Base models\n",
    "models = {\n",
    "    'rnn': model_rnn,\n",
    "    'cnn': model_cnn,\n",
    "    'bilstm': model_bilstm,\n",
    "    'gru': model_gru,\n",
    "    'xgb': model_xgb\n",
    "}\n",
    "# Define weights for each model\n",
    "weights = {\n",
    "    'rnn': 0.35,\n",
    "    'cnn': 1.0,  \n",
    "    'bilstm': 1.0,  \n",
    "    'gru': 0.35,\n",
    "    'xgb': 0.5\n",
    "}\n",
    "# Step 2: Generate weighted predictions for training data\n",
    "train_weighted_predictions = get_weighted_predictions(models, train_features_rnn, train_features_cnn, train_features, weights)\n",
    "\n",
    "# Step 3: Train a meta-model\n",
    "meta_model = LogisticRegression()  \n",
    "meta_model.fit(train_weighted_predictions.reshape(-1, 1), train_labels)\n",
    "\n",
    "# Save the meta-model coefficients and intercept\n",
    "np.save(\"meta_model_coef.npy\", meta_model.coef_)\n",
    "np.save(\"meta_model_intercept.npy\", meta_model.intercept_)\n",
    "\n",
    "\n",
    "# Step 4: Generate weighted predictions for the test set\n",
    "test_weighted_predictions = get_weighted_predictions(models, test_features_rnn, test_features_cnn, test_features, weights)\n",
    "\n",
    "# Step 5: Use the meta-model to make final predictions\n",
    "final_predictions = meta_model.predict(test_weighted_predictions.reshape(-1, 1))\n",
    "\n",
    "# Step 6: Evaluate the stacking model\n",
    "print(\"\\nStacking Model Classification Report:\")\n",
    "print(classification_report(test_labels, final_predictions))\n",
    "stacking_accuracy = accuracy_score(test_labels, final_predictions)\n",
    "print(f\"Stacking Model Accuracy: {stacking_accuracy * 100:.2f}%\")"
   ]
  },
  {
   "cell_type": "code",
   "execution_count": null,
   "metadata": {},
   "outputs": [
    {
     "name": "stdout",
     "output_type": "stream",
     "text": [
      "34/34 [==============================] - 44s 482ms/step\n"
     ]
    },
    {
     "data": {
      "image/png": "[encoded data removed]",
      "text/plain": [
       "<Figure size 600x400 with 2 Axes>"
      ]
     },
     "metadata": {},
     "output_type": "display_data"
    },
    {
     "data": {
      "image/png": "[encoded data removed]",
      "text/plain": [
       "<Figure size 600x400 with 2 Axes>"
      ]
     },
     "metadata": {},
     "output_type": "display_data"
    },
    {
     "data": {
      "image/png": "[encoded data removed]",
      "text/plain": [
       "<Figure size 600x400 with 2 Axes>"
      ]
     },
     "metadata": {},
     "output_type": "display_data"
    }
   ],
   "source": [
    "import seaborn as sns\n",
    "import matplotlib.pyplot as plt\n",
    "from sklearn.metrics import confusion_matrix\n",
    "\n",
    "# Function to plot heatmap for confusion matrix\n",
    "def plot_confusion_matrix_heatmap(model_name, y_true, y_pred):\n",
    "    cm = confusion_matrix(y_true, y_pred)\n",
    "    plt.figure(figsize=(6, 4))\n",
    "    sns.heatmap(cm, annot=True, fmt=\"d\", cmap=\"Reds\", xticklabels=[\"Real\", \"Fake\"], yticklabels=[\"Real\", \"Fake\"])\n",
    "    plt.title(f\"Confusion Matrix Heatmap - {model_name}\")\n",
    "    plt.xlabel(\"Predicted\")\n",
    "    plt.ylabel(\"Actual\")\n",
    "    plt.show()\n",
    "\n",
    "# CNN Model\n",
    "predictions_cnn = (model_cnn.predict(test_features_cnn) > 0.5).astype(int).flatten()\n",
    "plot_confusion_matrix_heatmap(\"CNN\", test_labels, predictions_cnn)\n",
    "\n",
    "# XGBoost Model\n",
    "predictions_xgb = (model_xgb.predict(test_features) > 0.5).astype(int).flatten()\n",
    "plot_confusion_matrix_heatmap(\"XGBoost\", test_labels, predictions_xgb)\n",
    "\n",
    "# Stacked Model\n",
    "plot_confusion_matrix_heatmap(\"Stacked Model\", test_labels, final_predictions)"
   ]
  },
  {
   "cell_type": "code",
   "execution_count": null,
   "metadata": {},
   "outputs": [
    {
     "data": {
      "image/png": "[encoded data removed]",
      "text/plain": [
       "<Figure size 800x800 with 1 Axes>"
      ]
     },
     "metadata": {},
     "output_type": "display_data"
    }
   ],
   "source": [
    "import matplotlib.pyplot as plt\n",
    "\n",
    "# Model names and their accuracies\n",
    "models = [\"RNN\", \"CNN\", \"BiLSTM\", \"GRU\", \"XGBoost\", \"Stacked Model\"]\n",
    "accuracies = [60.11, 95.13, 92.28, 80.33, 67.65, 94.03]\n",
    "\n",
    "# Plotting the pie chart\n",
    "plt.figure(figsize=(8, 8))\n",
    "plt.pie(accuracies, labels=models, autopct='%1.1f%%', startangle=140, colors=plt.cm.Paired.colors)\n",
    "plt.title(\"Model Accuracy Comparison\", fontsize=14)\n",
    "plt.show()"
   ]
  },
  {
   "cell_type": "code",
   "execution_count": null,
   "metadata": {},
   "outputs": [
    {
     "data": {
      "image/png": "[encoded data removed]",
      "text/plain": [
       "<Figure size 1000x600 with 1 Axes>"
      ]
     },
     "metadata": {},
     "output_type": "display_data"
    }
   ],
   "source": [
    "import matplotlib.pyplot as plt\n",
    "import numpy as np\n",
    "\n",
    "# Model performance metrics\n",
    "models = [\"RNN\", \"CNN\", \"BiLSTM\", \"GRU\", \"XGBoost\", \"Stacked Model\"]\n",
    "accuracy = [60.11, 95.13, 92.28, 80.33, 67.65, 94.03]\n",
    "precision = [62, 95, 93, 83, 77, 94]\n",
    "recall = [60, 95, 92, 80, 68, 94]\n",
    "f1_score = [58, 95, 92, 80, 65, 94]\n",
    "\n",
    "# Bar width\n",
    "bar_width = 0.2\n",
    "\n",
    "# X-axis positions for each group of bars\n",
    "x = np.arange(len(models))\n",
    "\n",
    "# Plotting the bar graph\n",
    "plt.figure(figsize=(10, 6))\n",
    "plt.bar(x - bar_width, accuracy, width=bar_width, label=\"Accuracy\", color=\"blue\")\n",
    "plt.bar(x, precision, width=bar_width, label=\"Precision\", color=\"green\")\n",
    "plt.bar(x + bar_width, recall, width=bar_width, label=\"Recall\", color=\"orange\")\n",
    "plt.bar(x + 2 * bar_width, f1_score, width=bar_width, label=\"F1-Score\", color=\"red\")\n",
    "\n",
    "# Adding labels and title\n",
    "plt.xlabel(\"Models\", fontsize=12)\n",
    "plt.ylabel(\"Performance (%)\", fontsize=12)\n",
    "plt.title(\"Model Performance Comparison\", fontsize=14)\n",
    "plt.xticks(x + bar_width / 2, models, rotation=45)\n",
    "plt.legend()\n",
    "plt.tight_layout()\n",
    "\n",
    "# Show the plot\n",
    "plt.show()"
   ]
  },
  {
   "cell_type": "code",
   "execution_count": null,
   "metadata": {},
   "outputs": [
    {
     "data": {
      "image/png": "[encoded data removed]",
      "text/plain": [
       "<Figure size 1000x600 with 1 Axes>"
      ]
     },
     "metadata": {},
     "output_type": "display_data"
    }
   ],
   "source": [
    "import matplotlib.pyplot as plt\n",
    "\n",
    "# Model names\n",
    "models = [\"RNN\", \"CNN\", \"BiLSTM\", \"GRU\", \"XGBoost\", \"Stacked Model\"]\n",
    "\n",
    "# Validation loss and training time for each model (example values)\n",
    "validation_loss = [0.45, 0.12, 0.15, 0.25, 0.30, 0.10]  # Replace with actual values\n",
    "training_time = [30, 45, 60, 40, 20, 50]  # Replace with actual values (in minutes)\n",
    "\n",
    "# Scatter plot\n",
    "plt.figure(figsize=(10, 6))\n",
    "plt.scatter(training_time, validation_loss, color='blue', s=100)\n",
    "\n",
    "# Annotate each point with the model name\n",
    "for i, model in enumerate(models):\n",
    "    plt.text(training_time[i] + 1, validation_loss[i], model, fontsize=10)\n",
    "\n",
    "# Adding labels and title\n",
    "plt.xlabel(\"Training Time (minutes)\", fontsize=12)\n",
    "plt.ylabel(\"Validation Loss\", fontsize=12)\n",
    "plt.title(\"Validation Loss vs Training Time for Each Model\", fontsize=14)\n",
    "plt.grid(True)\n",
    "plt.show()"
   ]
  }
 ],
 "metadata": {
  "kernelspec": {
   "display_name": "Python 3",
   "language": "python",
   "name": "python3"
  },
  "language_info": {
   "codemirror_mode": {
    "name": "ipython",
    "version": 3
   },
   "file_extension": ".py",
   "mimetype": "text/x-python",
   "name": "python",
   "nbconvert_exporter": "python",
   "pygments_lexer": "ipython3",
   "version": "3.12.9"
  }
 },
 "nbformat": 4,
 "nbformat_minor": 2
}
